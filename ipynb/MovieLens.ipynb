{
 "cells": [
  {
   "cell_type": "code",
   "execution_count": 34,
   "metadata": {
    "ExecuteTime": {
     "end_time": "2019-03-21T03:30:10.072118Z",
     "start_time": "2019-03-21T03:30:10.061657Z"
    }
   },
   "outputs": [],
   "source": [
    "%matplotlib inline "
   ]
  },
  {
   "cell_type": "code",
   "execution_count": 1,
   "metadata": {
    "ExecuteTime": {
     "end_time": "2019-03-21T02:55:42.647343Z",
     "start_time": "2019-03-21T02:55:42.643739Z"
    }
   },
   "outputs": [],
   "source": [
    "import numpy as np\n",
    "import pandas as pd"
   ]
  },
  {
   "cell_type": "code",
   "execution_count": 19,
   "metadata": {
    "ExecuteTime": {
     "end_time": "2019-03-21T03:13:54.352097Z",
     "start_time": "2019-03-21T03:13:54.349513Z"
    }
   },
   "outputs": [],
   "source": [
    "import os"
   ]
  },
  {
   "cell_type": "code",
   "execution_count": 2,
   "metadata": {
    "ExecuteTime": {
     "end_time": "2019-03-21T02:55:45.113245Z",
     "start_time": "2019-03-21T02:55:45.110266Z"
    }
   },
   "outputs": [],
   "source": [
    "asset_base = \"../asset/ml-latest-small/\""
   ]
  },
  {
   "cell_type": "code",
   "execution_count": 14,
   "metadata": {
    "ExecuteTime": {
     "end_time": "2019-03-21T03:01:34.536532Z",
     "start_time": "2019-03-21T03:01:34.531901Z"
    }
   },
   "outputs": [
    {
     "data": {
      "text/plain": [
       "['links.csv', 'tags.csv', 'ratings.csv', 'README.txt', 'movies.csv']"
      ]
     },
     "execution_count": 14,
     "metadata": {},
     "output_type": "execute_result"
    }
   ],
   "source": [
    "os.listdir(asset_base)"
   ]
  },
  {
   "cell_type": "code",
   "execution_count": 17,
   "metadata": {
    "ExecuteTime": {
     "end_time": "2019-03-21T03:07:51.898184Z",
     "start_time": "2019-03-21T03:07:51.878667Z"
    }
   },
   "outputs": [],
   "source": [
    "movies = pd.read_csv(asset_base + \"movies.csv\")"
   ]
  },
  {
   "cell_type": "code",
   "execution_count": 18,
   "metadata": {
    "ExecuteTime": {
     "end_time": "2019-03-21T03:07:55.070676Z",
     "start_time": "2019-03-21T03:07:55.061222Z"
    }
   },
   "outputs": [
    {
     "data": {
      "text/html": [
       "<div>\n",
       "<style scoped>\n",
       "    .dataframe tbody tr th:only-of-type {\n",
       "        vertical-align: middle;\n",
       "    }\n",
       "\n",
       "    .dataframe tbody tr th {\n",
       "        vertical-align: top;\n",
       "    }\n",
       "\n",
       "    .dataframe thead th {\n",
       "        text-align: right;\n",
       "    }\n",
       "</style>\n",
       "<table border=\"1\" class=\"dataframe\">\n",
       "  <thead>\n",
       "    <tr style=\"text-align: right;\">\n",
       "      <th></th>\n",
       "      <th>movieId</th>\n",
       "      <th>title</th>\n",
       "      <th>genres</th>\n",
       "    </tr>\n",
       "  </thead>\n",
       "  <tbody>\n",
       "    <tr>\n",
       "      <th>0</th>\n",
       "      <td>1</td>\n",
       "      <td>Toy Story (1995)</td>\n",
       "      <td>Adventure|Animation|Children|Comedy|Fantasy</td>\n",
       "    </tr>\n",
       "    <tr>\n",
       "      <th>1</th>\n",
       "      <td>2</td>\n",
       "      <td>Jumanji (1995)</td>\n",
       "      <td>Adventure|Children|Fantasy</td>\n",
       "    </tr>\n",
       "    <tr>\n",
       "      <th>2</th>\n",
       "      <td>3</td>\n",
       "      <td>Grumpier Old Men (1995)</td>\n",
       "      <td>Comedy|Romance</td>\n",
       "    </tr>\n",
       "    <tr>\n",
       "      <th>3</th>\n",
       "      <td>4</td>\n",
       "      <td>Waiting to Exhale (1995)</td>\n",
       "      <td>Comedy|Drama|Romance</td>\n",
       "    </tr>\n",
       "    <tr>\n",
       "      <th>4</th>\n",
       "      <td>5</td>\n",
       "      <td>Father of the Bride Part II (1995)</td>\n",
       "      <td>Comedy</td>\n",
       "    </tr>\n",
       "  </tbody>\n",
       "</table>\n",
       "</div>"
      ],
      "text/plain": [
       "   movieId                               title  \\\n",
       "0        1                    Toy Story (1995)   \n",
       "1        2                      Jumanji (1995)   \n",
       "2        3             Grumpier Old Men (1995)   \n",
       "3        4            Waiting to Exhale (1995)   \n",
       "4        5  Father of the Bride Part II (1995)   \n",
       "\n",
       "                                        genres  \n",
       "0  Adventure|Animation|Children|Comedy|Fantasy  \n",
       "1                   Adventure|Children|Fantasy  \n",
       "2                               Comedy|Romance  \n",
       "3                         Comedy|Drama|Romance  \n",
       "4                                       Comedy  "
      ]
     },
     "execution_count": 18,
     "metadata": {},
     "output_type": "execute_result"
    }
   ],
   "source": [
    "movies.head()"
   ]
  },
  {
   "cell_type": "code",
   "execution_count": 3,
   "metadata": {
    "ExecuteTime": {
     "end_time": "2019-03-21T02:55:46.771340Z",
     "start_time": "2019-03-21T02:55:46.706925Z"
    }
   },
   "outputs": [],
   "source": [
    "ratings = pd.read_csv(asset_base + \"ratings.csv\")"
   ]
  },
  {
   "cell_type": "code",
   "execution_count": 15,
   "metadata": {
    "ExecuteTime": {
     "end_time": "2019-03-21T03:01:38.569598Z",
     "start_time": "2019-03-21T03:01:38.559491Z"
    }
   },
   "outputs": [],
   "source": [
    "links = pd.read_csv(asset_base + \"links.csv\")"
   ]
  },
  {
   "cell_type": "code",
   "execution_count": 21,
   "metadata": {
    "ExecuteTime": {
     "end_time": "2019-03-21T03:14:53.760261Z",
     "start_time": "2019-03-21T03:14:53.751069Z"
    }
   },
   "outputs": [],
   "source": [
    "df = ratings[ratings.columns[:-1]]"
   ]
  },
  {
   "cell_type": "code",
   "execution_count": 23,
   "metadata": {
    "ExecuteTime": {
     "end_time": "2019-03-21T03:15:03.390737Z",
     "start_time": "2019-03-21T03:15:03.300887Z"
    }
   },
   "outputs": [],
   "source": [
    "df_table = df.set_index([\"userId\", \"movieId\"]).unstack()"
   ]
  },
  {
   "cell_type": "code",
   "execution_count": 28,
   "metadata": {
    "ExecuteTime": {
     "end_time": "2019-03-21T03:27:25.791120Z",
     "start_time": "2019-03-21T03:27:25.787057Z"
    }
   },
   "outputs": [
    {
     "data": {
      "text/plain": [
       "(610, 9724)"
      ]
     },
     "execution_count": 28,
     "metadata": {},
     "output_type": "execute_result"
    }
   ],
   "source": [
    "df_table.shape"
   ]
  },
  {
   "cell_type": "code",
   "execution_count": 32,
   "metadata": {
    "ExecuteTime": {
     "end_time": "2019-03-21T03:29:05.279145Z",
     "start_time": "2019-03-21T03:29:05.272360Z"
    }
   },
   "outputs": [
    {
     "data": {
      "text/plain": [
       "(610, 9724)"
      ]
     },
     "execution_count": 32,
     "metadata": {},
     "output_type": "execute_result"
    }
   ],
   "source": [
    "len(df[\"userId\"].unique()), len(df[\"movieId\"].unique())"
   ]
  },
  {
   "cell_type": "code",
   "execution_count": 39,
   "metadata": {
    "ExecuteTime": {
     "end_time": "2019-03-21T03:30:44.869258Z",
     "start_time": "2019-03-21T03:30:43.367391Z"
    }
   },
   "outputs": [
    {
     "data": {
      "image/png": "[encoded data removed]",
      "text/plain": [
       "<Figure size 2160x3960 with 1 Axes>"
      ]
     },
     "metadata": {
      "needs_background": "light"
     },
     "output_type": "display_data"
    }
   ],
   "source": [
    "plt.figure(figsize=(30, 55))\n",
    "plt.imshow(df_table)\n",
    "plt.grid(False)\n",
    "plt.xlabel(\"item\")\n",
    "plt.ylabel(\"user\")\n",
    "plt.title(\"Rate Matrix\")\n",
    "plt.show()"
   ]
  },
  {
   "cell_type": "code",
   "execution_count": 6,
   "metadata": {
    "ExecuteTime": {
     "end_time": "2019-03-18T07:23:38.282849Z",
     "start_time": "2019-03-18T07:23:38.160450Z"
    }
   },
   "outputs": [],
   "source": [
    "from surprise import Reader, Dataset"
   ]
  },
  {
   "cell_type": "code",
   "execution_count": 7,
   "metadata": {
    "ExecuteTime": {
     "end_time": "2019-03-18T07:51:18.719653Z",
     "start_time": "2019-03-18T07:51:18.638407Z"
    }
   },
   "outputs": [],
   "source": [
    "ratings_dict = {\n",
    "    'itemID' : list(ratings.movieId),\n",
    "    'userID' : list(ratings.userId),\n",
    "    'rating' : list(ratings.rating)\n",
    "}\n",
    "df = pd.DataFrame(ratings_dict)"
   ]
  },
  {
   "cell_type": "code",
   "execution_count": 10,
   "metadata": {
    "ExecuteTime": {
     "end_time": "2019-03-18T07:52:00.468859Z",
     "start_time": "2019-03-18T07:52:00.466048Z"
    }
   },
   "outputs": [],
   "source": [
    "reader = Reader(rating_scale=(0.5, 5.0))"
   ]
  },
  {
   "cell_type": "code",
   "execution_count": 11,
   "metadata": {
    "ExecuteTime": {
     "end_time": "2019-03-18T07:52:18.298561Z",
     "start_time": "2019-03-18T07:52:18.174434Z"
    }
   },
   "outputs": [],
   "source": [
    "data = Dataset.load_from_df(df[['userID', 'itemID', 'rating']], reader)"
   ]
  },
  {
   "cell_type": "code",
   "execution_count": 13,
   "metadata": {
    "ExecuteTime": {
     "end_time": "2019-03-18T07:53:09.175897Z",
     "start_time": "2019-03-18T07:53:09.081955Z"
    }
   },
   "outputs": [],
   "source": [
    "data.split(n_folds=5)"
   ]
  },
  {
   "cell_type": "code",
   "execution_count": 14,
   "metadata": {
    "ExecuteTime": {
     "end_time": "2019-03-18T07:53:21.942265Z",
     "start_time": "2019-03-18T07:53:21.939781Z"
    }
   },
   "outputs": [],
   "source": [
    "from surprise import SVD, evaluate\n",
    "from surprise import NMF"
   ]
  },
  {
   "cell_type": "code",
   "execution_count": 15,
   "metadata": {
    "ExecuteTime": {
     "end_time": "2019-03-18T07:54:49.128704Z",
     "start_time": "2019-03-18T07:54:01.542712Z"
    }
   },
   "outputs": [
    {
     "name": "stdout",
     "output_type": "stream",
     "text": [
      "Evaluating RMSE of algorithm SVD.\n",
      "\n",
      "------------\n",
      "Fold 1\n",
      "RMSE: 0.8738\n",
      "------------\n",
      "Fold 2\n",
      "RMSE: 0.8807\n",
      "------------\n",
      "Fold 3\n",
      "RMSE: 0.8786\n",
      "------------\n",
      "Fold 4\n",
      "RMSE: 0.8689\n",
      "------------\n",
      "Fold 5\n",
      "RMSE: 0.8641\n",
      "------------\n",
      "------------\n",
      "Mean RMSE: 0.8732\n",
      "------------\n",
      "------------\n",
      "Evaluating RMSE of algorithm NMF.\n",
      "\n",
      "------------\n",
      "Fold 1\n",
      "RMSE: 0.9260\n",
      "------------\n",
      "Fold 2\n",
      "RMSE: 0.9264\n",
      "------------\n",
      "Fold 3\n",
      "RMSE: 0.9285\n",
      "------------\n",
      "Fold 4\n",
      "RMSE: 0.9153\n",
      "------------\n",
      "Fold 5\n",
      "RMSE: 0.9191\n",
      "------------\n",
      "------------\n",
      "Mean RMSE: 0.9231\n",
      "------------\n",
      "------------\n"
     ]
    },
    {
     "data": {
      "text/plain": [
       "CaseInsensitiveDefaultDict(list,\n",
       "                           {'rmse': [0.9260175174947258,\n",
       "                             0.9264494192184367,\n",
       "                             0.9285429153911526,\n",
       "                             0.915331503521559,\n",
       "                             0.9191220948593907]})"
      ]
     },
     "execution_count": 15,
     "metadata": {},
     "output_type": "execute_result"
    }
   ],
   "source": [
    "#svd\n",
    "algo = SVD()\n",
    "evaluate(algo, data, measures=['RMSE'])\n",
    "\n",
    "#nmf\n",
    "algo = NMF()\n",
    "evaluate(algo, data, measures=['RMSE'])"
   ]
  },
  {
   "cell_type": "code",
   "execution_count": null,
   "metadata": {},
   "outputs": [],
   "source": []
  }
 ],
 "metadata": {
  "kernelspec": {
   "display_name": "Python 3",
   "language": "python",
   "name": "python3"
  },
  "language_info": {
   "codemirror_mode": {
    "name": "ipython",
    "version": 3
   },
   "file_extension": ".py",
   "mimetype": "text/x-python",
   "name": "python",
   "nbconvert_exporter": "python",
   "pygments_lexer": "ipython3",
   "version": "3.6.6"
  }
 },
 "nbformat": 4,
 "nbformat_minor": 2
}
